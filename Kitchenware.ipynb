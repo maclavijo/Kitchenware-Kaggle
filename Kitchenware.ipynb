{
 "cells": [
  {
   "cell_type": "code",
   "execution_count": null,
   "id": "d6dfc61a",
   "metadata": {},
   "outputs": [],
   "source": [
    "import pandas as pd\n",
    "import numpy as np\n",
    "import matplotlib.pyplot as plt\n",
    "import os\n",
    "import shutil\n",
    "import pickle\n",
    "\n",
    "import tensorflow as tf\n",
    "from tensorflow.keras import models\n",
    "from tensorflow import keras\n",
    "from tensorflow.keras import layers, Model, Input\n",
    "from tensorflow.keras.losses import CategoricalCrossentropy\n",
    "from tensorflow.keras.optimizers import SGD, Adam\n",
    "from keras.preprocessing.image import ImageDataGenerator, image\n",
    "from keras.applications.xception import Xception, preprocess_input, decode_predictions\n",
    "from keras.applications.inception_v3 import InceptionV3,preprocess_input"
   ]
  },
  {
   "cell_type": "code",
   "execution_count": null,
   "id": "dbe37a47",
   "metadata": {},
   "outputs": [],
   "source": [
    "if not os.path.exists('./train'):\n",
    "    os.mkdir('./train')\n",
    "if not os.path.exists('./train/cup'):\n",
    "    os.mkdir('./train/cup')     \n",
    "if not os.path.exists('./train/fork'):\n",
    "    os.mkdir('./train/fork')     \n",
    "if not os.path.exists('./train/glass'):\n",
    "    os.mkdir('./train/glass')     \n",
    "if not os.path.exists('./train/knife'):\n",
    "    os.mkdir('./train/knife')     \n",
    "if not os.path.exists('./train/plate'):\n",
    "    os.mkdir('./train/plate')     \n",
    "if not os.path.exists('./train/spoon'):\n",
    "    os.mkdir('./train/spoon')     \n",
    "    \n",
    "if not os.path.exists('./test'):\n",
    "    os.mkdir('./test')\n",
    "    \n",
    "trainList = pd.read_csv('train.csv')"
   ]
  },
  {
   "cell_type": "code",
   "execution_count": null,
   "id": "b58255c2",
   "metadata": {},
   "outputs": [],
   "source": [
    "for img in os.listdir('./images'):\n",
    "    \n",
    "    if (not os.path.exists(f'./train/{img}')) and (not(os.path.exists(f'./test/{img}'))):\n",
    "        imgName = int(img.split('.')[0])\n",
    "        \n",
    "        if imgName in trainList.Id.values:\n",
    "            \n",
    "            imgLabel = trainList[trainList.Id == imgName].label.values\n",
    "            \n",
    "            if imgLabel == 'cup':\n",
    "                shutil.copy(f'./images/{img}', f'./train/cup/{img}')\n",
    "            elif imgLabel == 'fork':\n",
    "                shutil.copy(f'./images/{img}', f'./train/fork/{img}')\n",
    "            elif imgLabel == 'glass':\n",
    "                shutil.copy(f'./images/{img}', f'./train/glass/{img}')\n",
    "            elif imgLabel == 'knife':\n",
    "                shutil.copy(f'./images/{img}', f'./train/knife/{img}')\n",
    "            elif imgLabel == 'plate':\n",
    "                shutil.copy(f'./images/{img}', f'./train/plate/{img}')\n",
    "            elif imgLabel == 'spoon':\n",
    "                shutil.copy(f'./images/{img}', f'./train/spoon/{img}')\n",
    "\n",
    "        else:            \n",
    "            \n",
    "            shutil.copy(f'./images/{img}', f'./test/{img}')\n",
    "            \n",
    "totalTrainImgs = len(os.listdir(\"./train/cup\")) + len(os.listdir(\"./train/fork\")) + \\\n",
    "                len(os.listdir(\"./train/glass\")) + len(os.listdir(\"./train/knife\")) + \\\n",
    "                len(os.listdir(\"./train/plate\")) + len(os.listdir(\"./train/spoon\"))\n",
    "\n",
    "totalTestImgs = len(os.listdir(\"./test\"))\n",
    "\n",
    "print(f'There is a total of {totalTrainImgs} images in the training set')\n",
    "print(f'There is a total of {totalTestImgs} images in the test set')            "
   ]
  },
  {
   "cell_type": "code",
   "execution_count": null,
   "id": "3d91113c",
   "metadata": {},
   "outputs": [],
   "source": [
    "dataGenerator = ImageDataGenerator(rescale=1/255, validation_split=0.2)    \n",
    "\n",
    "trainGenerator = dataGenerator.flow_from_directory(directory='./train',\n",
    "                                                     batch_size=32,\n",
    "                                                     target_size=(300, 300), \n",
    "                                                     subset=\"training\",\n",
    "                                                     shuffle=True,\n",
    "                                                     class_mode='categorical')\n",
    "\n",
    "valGenerator = dataGenerator.flow_from_directory(directory='./train',\n",
    "                                                   batch_size=32,\n",
    "                                                   target_size=(300, 300),\n",
    "                                                   subset=\"validation\",\n",
    "                                                   shuffle=True,\n",
    "                                                   class_mode='categorical')"
   ]
  },
  {
   "cell_type": "code",
   "execution_count": null,
   "id": "9b6fe0d2",
   "metadata": {},
   "outputs": [],
   "source": [
    "#optimizer = SGD(learning_rate=0.1, momentum=0.4)\n",
    "learning_rate = 0.0007\n",
    "optimizer = Adam(learning_rate=learning_rate)\n",
    "#loss = CategoricalCrossentropy(from_logits=True)\n",
    "loss = CategoricalCrossentropy()\n",
    "\n",
    "model = models.Sequential([\n",
    "    \n",
    "    layers.Conv2D(8, (7,7), activation='relu', input_shape=(300,300,3)),\n",
    "    layers.MaxPool2D(4,4),\n",
    "    layers.Conv2D(16, (7,7), activation='relu'),\n",
    "    layers.MaxPool2D(4,4),\n",
    "    layers.Conv2D(16, (5,5), activation='relu'),\n",
    "    layers.MaxPool2D(2,2),\n",
    "    layers.Dropout(0.2),\n",
    "    layers.Conv2D(32, (3,3), activation='relu'),\n",
    "    layers.MaxPool2D(2,2),\n",
    "    layers.Dropout(0.2),\n",
    "    \n",
    "    layers.Flatten(),\n",
    "    layers.Dense(128, activation='relu'),\n",
    "    layers.Dropout(0.2),\n",
    "    layers.Dense(6, activation='softmax')\n",
    "])\n",
    "\n",
    "model.summary()"
   ]
  },
  {
   "cell_type": "code",
   "execution_count": null,
   "id": "a1bc3ef4",
   "metadata": {},
   "outputs": [],
   "source": [
    "model.compile(loss = loss, optimizer=optimizer, metrics=['accuracy'])"
   ]
  },
  {
   "cell_type": "code",
   "execution_count": null,
   "id": "718f660c",
   "metadata": {},
   "outputs": [],
   "source": [
    "history = model.fit( trainGenerator, epochs=10, validation_data=valGenerator)"
   ]
  },
  {
   "cell_type": "code",
   "execution_count": null,
   "id": "12008036",
   "metadata": {},
   "outputs": [],
   "source": [
    "######################################"
   ]
  },
  {
   "cell_type": "code",
   "execution_count": null,
   "id": "7171a7c8",
   "metadata": {},
   "outputs": [],
   "source": [
    "pixels = 500\n",
    "\n",
    "dataGenerator = ImageDataGenerator(preprocessing_function=preprocess_input,\n",
    "                                    validation_split=0.2,\n",
    "                                    #rotation_range=30,\n",
    "                                    #shear_range=0.2,\n",
    "                                    #zoom_range=0.3,\n",
    "                                    #vertical_flip=True\n",
    "                                    #brightness_range=(20,40),\n",
    "                                    #featurewise_std_normalization=True\n",
    "                                  )    \n",
    "\n",
    "trainGenerator = dataGenerator.flow_from_directory(directory='./train',\n",
    "                                                     batch_size=32,\n",
    "                                                     target_size=(pixels, pixels), \n",
    "                                                     subset=\"training\",\n",
    "                                                     shuffle=True,\n",
    "                                                     class_mode='categorical')\n",
    "\n",
    "valGenerator = dataGenerator.flow_from_directory(directory='./train',\n",
    "                                                   batch_size=16,\n",
    "                                                   target_size=(pixels, pixels),\n",
    "                                                   subset=\"validation\",\n",
    "                                                   shuffle=True,\n",
    "                                                   class_mode='categorical')"
   ]
  },
  {
   "cell_type": "code",
   "execution_count": null,
   "id": "0f0a4e03",
   "metadata": {},
   "outputs": [],
   "source": [
    "base_model = tf.keras.applications.Xception(weights='imagenet',\n",
    "                                            include_top=False,\n",
    "                                            input_shape=(300, 300, 3))\n",
    "\n",
    "base_model.trainable = False\n"
   ]
  },
  {
   "cell_type": "code",
   "execution_count": null,
   "id": "b25e9bf4",
   "metadata": {},
   "outputs": [],
   "source": [
    "checkpoint = keras.callbacks.ModelCheckpoint('xception_v1_{epoch:02d}_{val_accuracy:.3f}.h5',\n",
    "                                             save_best_only=True,\n",
    "                                             save_weights_only=True,\n",
    "                                             monitor='val_accuracy',\n",
    "                                             mode='max')\n",
    "\n",
    "plateau = tf.keras.callbacks.ReduceLROnPlateau(\n",
    "    monitor=\"val_loss\",\n",
    "    factor=0.1,\n",
    "    patience=10,\n",
    "    mode=\"auto\",\n",
    "    min_lr=0.0001,\n",
    ")"
   ]
  },
  {
   "cell_type": "code",
   "execution_count": null,
   "id": "8cbaa5e6",
   "metadata": {},
   "outputs": [],
   "source": [
    "inputs = keras.Input(shape=(300,300,3))\n",
    "base = base_model(inputs, training=False)\n",
    "\n",
    "vectors = layers.GlobalAveragePooling2D()(base)\n",
    "\n",
    "inner1 = layers.Dense(128, activation='relu')(vectors)\n",
    "drop1 = layers.Dropout(0.3)(inner1)\n",
    "#inner2 = layers.Dense(128, activation='relu')(drop1)\n",
    "#drop2 = layers.Dropout(0.3)(inner2)\n",
    "outputs = layers.Dense(6, activation='softmax')(drop1)\n",
    "\n",
    "modelx = Model(inputs, outputs)\n",
    "optimizer = Adam(learning_rate=0.001)\n",
    "loss = CategoricalCrossentropy()\n",
    "modelx.compile(optimizer=optimizer, loss=loss, metrics=['accuracy'])\n",
    "modelx.summary()"
   ]
  },
  {
   "cell_type": "code",
   "execution_count": null,
   "id": "a70f599f",
   "metadata": {},
   "outputs": [],
   "source": [
    "history = modelx.fit(trainGenerator,\n",
    "                     validation_data=valGenerator,\n",
    "                     steps_per_epoch=50,\n",
    "                     epochs=20,\n",
    "                     callbacks=[checkpoint],\n",
    "                     #validation_steps=5,\n",
    "                     #verbose=2\n",
    "                    )"
   ]
  },
  {
   "cell_type": "code",
   "execution_count": null,
   "id": "17a27a4d",
   "metadata": {},
   "outputs": [],
   "source": []
  },
  {
   "cell_type": "code",
   "execution_count": null,
   "id": "1410c2ba",
   "metadata": {},
   "outputs": [],
   "source": [
    "##########################"
   ]
  },
  {
   "cell_type": "code",
   "execution_count": null,
   "id": "9df7397e",
   "metadata": {},
   "outputs": [],
   "source": [
    "def GetModel(modelName):\n",
    "    \n",
    "    basemodel_Xce = tf.keras.applications.Xception(weights='imagenet',\n",
    "                                                   include_top=False,\n",
    "                                                   input_shape=(pixels, pixels, 3))\n",
    "\n",
    "    basemodel_Inc = tf.keras.applications.InceptionV3(weights='imagenet',\n",
    "                                                      include_top=False,\n",
    "                                                      input_shape=(pixels, pixels, 3))\n",
    "    \n",
    "    basemodel_EffB7 = tf.keras.applications.EfficientNetB7(weights='imagenet',\n",
    "                                                       include_top=False,\n",
    "                                                       input_shape=(pixels, pixels, 3)) \n",
    "\n",
    "    basemodel_Res50V2 = tf.keras.applications.resnet_v2.ResNet50V2(weights='imagenet',\n",
    "                                                                 include_top=False,\n",
    "                                                                 input_shape=(pixels, pixels, 3)\n",
    "                                                                  ) \n",
    "\n",
    "    basemodel_VGG16 = tf.keras.applications.vgg16.VGG16(weights='imagenet',\n",
    "                                                          include_top=False,\n",
    "                                                          input_shape=(pixels, pixels, 3),\n",
    "                                                       ) \n",
    "    \n",
    "   \n",
    "    basemodels = {'Xception': basemodel_Xce,\n",
    "                  'InceptionV3': basemodel_Inc,\n",
    "                  'efficientnetB7': basemodel_Eff,\n",
    "                  'ResNet50V2': basemodel_Res50V2,\n",
    "                  'VGG16' : basemodel_VGG16\n",
    "                 }\n",
    "    \n",
    "    return basemodels[modelName]"
   ]
  },
  {
   "cell_type": "code",
   "execution_count": null,
   "id": "588c05a4",
   "metadata": {},
   "outputs": [],
   "source": [
    "def MakeModel(modelName = 'Xception', learning_rate = 0.001, size_inner=128, droprate=0.3):\n",
    "    \n",
    "    base_model = GetModel(modelName)\n",
    "    \n",
    "    base_model.trainable = False\n",
    "\n",
    "    inputs = Input(shape=(pixels, pixels, 3))\n",
    "    base = base_model(inputs, training=False)\n",
    "    vectors = layers.GlobalAveragePooling2D()(base)\n",
    "    \n",
    "    inner = layers.Dense(size_inner, activation='relu')(vectors)\n",
    "    drop = layers.Dropout(droprate)(inner)\n",
    "    \n",
    "    outputs = layers.Dense(6, activation='softmax')(drop)\n",
    "    model = Model(inputs, outputs)\n",
    "    \n",
    "    #########################################################\n",
    "    \n",
    "    optimizer = Adam(learning_rate=learning_rate)\n",
    "    loss = CategoricalCrossentropy()\n",
    "    model.compile(optimizer=optimizer, loss=loss, metrics=['accuracy'])\n",
    "    \n",
    "    return model"
   ]
  },
  {
   "cell_type": "code",
   "execution_count": null,
   "id": "d2cc656e",
   "metadata": {},
   "outputs": [],
   "source": [
    "scores = {}\n",
    "#lr = 0.001\n",
    "size = 128\n",
    "droprate = 0.3\n",
    "learningRates = [0.0005, 0.0007, 0.001, 0.003, 0.005, 0.01]\n",
    "\n",
    "for lr in learningRates:\n",
    "    print(lr)\n",
    "    model = MakeModel(modelName='Xception', learning_rate=lr)\n",
    "    history = model.fit(trainGenerator, validation_data=valGenerator, steps_per_epoch=50, epochs=15)\n",
    "    scores[lr] = history.history\n",
    "    print('\\n\\n')"
   ]
  },
  {
   "cell_type": "code",
   "execution_count": null,
   "id": "ed580a3b",
   "metadata": {},
   "outputs": [],
   "source": [
    "for lr , hist in scores.items():\n",
    "    plt.plot(hist['val_accuracy'], label=lr)\n",
    "    \n",
    "plt.xticks(np.arange(15))\n",
    "plt.ylim(0.85,0.98)\n",
    "plt.legend()"
   ]
  },
  {
   "cell_type": "code",
   "execution_count": null,
   "id": "0c5b70ef",
   "metadata": {},
   "outputs": [],
   "source": [
    "del scores[0.005, 0.01]"
   ]
  },
  {
   "cell_type": "code",
   "execution_count": null,
   "id": "820dbaa4",
   "metadata": {},
   "outputs": [],
   "source": [
    "for lr , hist in scores.items():\n",
    "    plt.plot(hist['val_accuracy'], label=lr)\n",
    "    \n",
    "plt.xticks(np.arange(15))\n",
    "plt.ylim(0.94,0.98)\n",
    "plt.legend()"
   ]
  },
  {
   "cell_type": "code",
   "execution_count": null,
   "id": "a7c669ad",
   "metadata": {},
   "outputs": [],
   "source": []
  },
  {
   "cell_type": "code",
   "execution_count": null,
   "id": "f551372c",
   "metadata": {},
   "outputs": [],
   "source": []
  },
  {
   "cell_type": "code",
   "execution_count": null,
   "id": "8017e2eb",
   "metadata": {},
   "outputs": [],
   "source": [
    "#########################################################"
   ]
  },
  {
   "cell_type": "code",
   "execution_count": null,
   "id": "ba49ca3d",
   "metadata": {},
   "outputs": [],
   "source": [
    "def GetCheckpoint(modelName):\n",
    "    checkpoint = keras.callbacks.ModelCheckpoint(modelName + '_{epoch:02d}_{val_accuracy:.3f}.h5',\n",
    "                                                 save_best_only=True,\n",
    "                                                 #save_weights_only=True,\n",
    "                                                 monitor='val_accuracy',\n",
    "                                                 mode='max')\n",
    "    return checkpoint\n",
    "#plateau = tf.keras.callbacks.ReduceLROnPlateau(\n",
    "#    monitor=\"val_loss\",\n",
    "#    factor=0.1,\n",
    "#    patience=10,\n",
    "#    mode=\"auto\",\n",
    "#    min_lr=0.0001,\n",
    "#)"
   ]
  },
  {
   "cell_type": "code",
   "execution_count": null,
   "id": "013f6730",
   "metadata": {},
   "outputs": [],
   "source": [
    "models = ['Xception', 'InceptionV3', 'efficientnetB7', 'ResNet50V2', 'VGG16']"
   ]
  },
  {
   "cell_type": "code",
   "execution_count": null,
   "id": "93345e92",
   "metadata": {},
   "outputs": [],
   "source": [
    "scores = {}\n",
    "lr = 0.001\n",
    "size = 128\n",
    "droprate = 0.3\n",
    "modelName = 'ResNet50V2'\n",
    "\n",
    "checkpoint = GetCheckpoint(modelName)\n",
    "\n",
    "\n",
    "model = MakeModel(modelName=modelName, learning_rate=lr, size_inner=size, droprate=droprate)\n",
    "history = model.fit(trainGenerator, validation_data=valGenerator, steps_per_epoch=50, epochs=15, callbacks=[checkpoint])"
   ]
  },
  {
   "cell_type": "code",
   "execution_count": null,
   "id": "38f4fce6",
   "metadata": {},
   "outputs": [],
   "source": [
    "scores = {}\n",
    "lr = 0.01\n",
    "size = 128\n",
    "droprate = 0.3\n",
    "modelName = 'VGG16'\n",
    "\n",
    "checkpoint = GetCheckpoint(modelName)\n",
    "\n",
    "model = MakeModel(modelName=modelName, learning_rate=lr, size_inner=size, droprate=droprate)\n",
    "history = model.fit(trainGenerator, validation_data=valGenerator, steps_per_epoch=50, epochs=15, callbacks=[checkpoint])"
   ]
  },
  {
   "cell_type": "code",
   "execution_count": null,
   "id": "e697ff10",
   "metadata": {},
   "outputs": [],
   "source": [
    "scores = {}\n",
    "lr = 0.001\n",
    "size = 128\n",
    "droprate = 0.3\n",
    "\n",
    "for modelName in models:\n",
    "    checkpoint = GetCheckpoint(modelName)\n",
    "    model = MakeModel(modelName=modelName, learning_rate=lr, size_inner=size, droprate=droprate)\n",
    "    history = model.fit(trainGenerator, validation_data=valGenerator, steps_per_epoch=50, epochs=15, callbacks=[checkpoint])\n",
    "   "
   ]
  },
  {
   "cell_type": "code",
   "execution_count": null,
   "id": "c83f0314",
   "metadata": {},
   "outputs": [],
   "source": [
    "\n"
   ]
  },
  {
   "cell_type": "code",
   "execution_count": null,
   "id": "6452183f",
   "metadata": {},
   "outputs": [],
   "source": []
  },
  {
   "cell_type": "code",
   "execution_count": null,
   "id": "93e18443",
   "metadata": {},
   "outputs": [],
   "source": []
  },
  {
   "cell_type": "code",
   "execution_count": null,
   "id": "b82f4052",
   "metadata": {},
   "outputs": [],
   "source": [
    "newModel = model = makeModel(modelName='Xception', learning_rate=lr, size_inner=size, droprate=droprate)\n",
    "newModel.load_weights('xception_v1_17_0.966.h5')"
   ]
  },
  {
   "cell_type": "code",
   "execution_count": null,
   "id": "6b9d248c",
   "metadata": {},
   "outputs": [],
   "source": []
  },
  {
   "cell_type": "code",
   "execution_count": null,
   "id": "6b3c14c2",
   "metadata": {},
   "outputs": [],
   "source": [
    "base_model = InceptionV3(include_top=False,\n",
    "                         input_shape=(300, 300, 3),\n",
    "                        weights = 'imagenet')\n",
    "\n",
    "base_model.trainable = False\n",
    "\n",
    "#base_model.summary()"
   ]
  },
  {
   "cell_type": "code",
   "execution_count": null,
   "id": "f492964c",
   "metadata": {},
   "outputs": [],
   "source": [
    "from tensorflow.keras import Model\n",
    "\n",
    "#inputs = keras.Input(shape=(300,300,3))\n",
    "#base = base_model(inputs, training=False)\n",
    "\n",
    "last_layer_out = base_model.get_layer('mixed7')\n",
    "last_output = last_layer_out.output\n",
    "\n",
    "x = layers.Flatten()(last_output)\n",
    "x = layers.Dense(128, activation='relu')(x)\n",
    "x = layers.Dropout(0.3)(x)\n",
    "x = layers.Dense(6, activation='softmax')(x)\n",
    "\n",
    "#inner = keras.layers.Dense(128, activation='relu')(vectors)\n",
    "#drop = keras.layers.Dropout(0.2)(inner)\n",
    "#outputs = keras.layers.Dense(10)(drop)\n",
    "#model = keras.Model(inputs, outputs)\n",
    "\n",
    "modelx2 = Model(base_model.input, x)\n",
    "#modelx = Model(inputs, outputs)\n",
    "\n",
    "optimizer = Adam(learning_rate=0.001)\n",
    "loss = CategoricalCrossentropy()\n",
    "\n",
    "modelx2.compile(optimizer=optimizer, loss=loss, metrics=['accuracy'])\n",
    "modelx2.summary()"
   ]
  },
  {
   "cell_type": "code",
   "execution_count": null,
   "id": "bacdcd63",
   "metadata": {},
   "outputs": [],
   "source": [
    "history = modelx2.fit(trainGenerator,\n",
    "                     validation_data=valGenerator,\n",
    "                     steps_per_epoch=50,\n",
    "                     epochs=20,\n",
    "                     callbacks=[reduce_lr, model_checkpoint],\n",
    "                     #validation_steps=5,\n",
    "                     #verbose=2\n",
    "                    )"
   ]
  },
  {
   "cell_type": "code",
   "execution_count": null,
   "id": "4b162a7b",
   "metadata": {},
   "outputs": [],
   "source": []
  },
  {
   "cell_type": "code",
   "execution_count": null,
   "id": "aa2a2852",
   "metadata": {},
   "outputs": [],
   "source": [
    "newModel = makeModel(modelName='Xception', learning_rate=lr, size_inner=size, droprate=droprate)\n",
    "newModel.load_weights('xception_v1_09_0.973.h5')"
   ]
  },
  {
   "cell_type": "code",
   "execution_count": null,
   "id": "ac9813e9",
   "metadata": {},
   "outputs": [],
   "source": []
  },
  {
   "cell_type": "code",
   "execution_count": null,
   "id": "2abc7f74",
   "metadata": {
    "scrolled": false
   },
   "outputs": [],
   "source": [
    "count =0\n",
    "res = []\n",
    "classes = trainGenerator.class_indices\n",
    "labels = dict((v, k) for k, v in classes.items())\n",
    "\n",
    "for file in os.listdir('./test'):\n",
    "    imgPath = './test/' + file\n",
    "    img = image.load_img(imgPath, target_size=(pixels, pixels))\n",
    "    x = np.array(img)\n",
    "    X = np.array([x])\n",
    "    X = preprocess_input(X)\n",
    "    preds = model.predict(X)\n",
    "\n",
    "    label = labels[np.argmax(preds[0])]\n",
    "    Id = file.split('.')[0]\n",
    "    res.append([Id, label])\n",
    "    if count%200==0:\n",
    "        print(count, Id, label)\n",
    "    count += 1"
   ]
  },
  {
   "cell_type": "code",
   "execution_count": null,
   "id": "17233a2b",
   "metadata": {},
   "outputs": [],
   "source": [
    "results = pd.DataFrame(res, columns=['Id', 'label'])\n",
    "results\n",
    "\n",
    "results.to_csv('submission_MAC_Resnet50.csv', index=False)"
   ]
  },
  {
   "cell_type": "code",
   "execution_count": null,
   "id": "46c5c2cf",
   "metadata": {},
   "outputs": [],
   "source": []
  },
  {
   "cell_type": "code",
   "execution_count": null,
   "id": "984623b0",
   "metadata": {},
   "outputs": [],
   "source": []
  },
  {
   "cell_type": "code",
   "execution_count": null,
   "id": "b05da486",
   "metadata": {},
   "outputs": [],
   "source": []
  }
 ],
 "metadata": {
  "kernelspec": {
   "display_name": "Python 3 (ipykernel)",
   "language": "python",
   "name": "python3"
  },
  "language_info": {
   "codemirror_mode": {
    "name": "ipython",
    "version": 3
   },
   "file_extension": ".py",
   "mimetype": "text/x-python",
   "name": "python",
   "nbconvert_exporter": "python",
   "pygments_lexer": "ipython3",
   "version": "3.9.15"
  }
 },
 "nbformat": 4,
 "nbformat_minor": 5
}
