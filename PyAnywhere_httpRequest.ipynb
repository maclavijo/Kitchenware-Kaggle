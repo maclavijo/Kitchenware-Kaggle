{
 "cells": [
  {
   "cell_type": "code",
   "execution_count": 77,
   "id": "deddb5e1",
   "metadata": {},
   "outputs": [],
   "source": [
    "import requests\n",
    "from PIL import Image"
   ]
  },
  {
   "cell_type": "code",
   "execution_count": 78,
   "id": "7a2a9813",
   "metadata": {},
   "outputs": [],
   "source": [
    "url = 'http://supermac7.pythonanywhere.com/classifier'"
   ]
  },
  {
   "cell_type": "code",
   "execution_count": 79,
   "id": "c6c1314a",
   "metadata": {},
   "outputs": [
    {
     "data": {
      "text/plain": [
       "{'im': '0000.jpg'}"
      ]
     },
     "execution_count": 79,
     "metadata": {},
     "output_type": "execute_result"
    }
   ],
   "source": [
    "#img = {\"im\":\"0000.jpg\"}\n",
    "#im = \"https://media.istockphoto.com/id/520537085/photo/teaspoon-steel-isolated.jpg?s=612x612&w=0&k=20&c=_NTGCi03R-DNbjp2SCy4ABbKMwMYGkLFi5-kPvCqH6g=\"\n",
    "img = { \"im\": \"0000.jpg\"}\n",
    "img"
   ]
  },
  {
   "cell_type": "code",
   "execution_count": 80,
   "id": "56a252f0",
   "metadata": {},
   "outputs": [
    {
     "data": {
      "text/plain": [
       "{'cup': 99.79,\n",
       " 'fork': 0.01,\n",
       " 'glass': 0.14,\n",
       " 'knife': 0.0,\n",
       " 'plate': 0.03,\n",
       " 'spoon': 0.02}"
      ]
     },
     "execution_count": 80,
     "metadata": {},
     "output_type": "execute_result"
    }
   ],
   "source": [
    "res = requests.post(url, json=img).json()\n",
    "res"
   ]
  },
  {
   "cell_type": "code",
   "execution_count": 63,
   "id": "0ff6e8da",
   "metadata": {},
   "outputs": [],
   "source": [
    "im = Image.open(requests.get(img['im'], stream=True).raw)"
   ]
  },
  {
   "cell_type": "code",
   "execution_count": 71,
   "id": "360a2b20",
   "metadata": {},
   "outputs": [],
   "source": [
    "x =  {'cup': 0.0, 'fork': 0.05, 'glass': 0.0, 'knife': 0.0, 'plate': 0.01, 'spoon': 99.94}"
   ]
  },
  {
   "cell_type": "code",
   "execution_count": null,
   "id": "d62fa0e2",
   "metadata": {},
   "outputs": [],
   "source": []
  }
 ],
 "metadata": {
  "kernelspec": {
   "display_name": "Python 3 (ipykernel)",
   "language": "python",
   "name": "python3"
  },
  "language_info": {
   "codemirror_mode": {
    "name": "ipython",
    "version": 3
   },
   "file_extension": ".py",
   "mimetype": "text/x-python",
   "name": "python",
   "nbconvert_exporter": "python",
   "pygments_lexer": "ipython3",
   "version": "3.9.15"
  }
 },
 "nbformat": 4,
 "nbformat_minor": 5
}
