{
 "cells": [
  {
   "cell_type": "code",
   "execution_count": 1,
   "id": "de00af39",
   "metadata": {},
   "outputs": [],
   "source": [
    "a = {'cup': 0, 'fork': 1, 'glass': 2, 'knife': 3, 'plate': 4, 'spoon': 5}"
   ]
  },
  {
   "cell_type": "code",
   "execution_count": 5,
   "id": "a993f207",
   "metadata": {},
   "outputs": [],
   "source": [
    "import json\n",
    "import jsonify"
   ]
  },
  {
   "cell_type": "code",
   "execution_count": 6,
   "id": "bd7caa62",
   "metadata": {},
   "outputs": [
    {
     "data": {
      "text/plain": [
       "'{\"cup\": 0, \"fork\": 1, \"glass\": 2, \"knife\": 3, \"plate\": 4, \"spoon\": 5}'"
      ]
     },
     "execution_count": 6,
     "metadata": {},
     "output_type": "execute_result"
    }
   ],
   "source": [
    "json.dumps(a)"
   ]
  },
  {
   "cell_type": "code",
   "execution_count": 8,
   "id": "f0d2fa12",
   "metadata": {},
   "outputs": [
    {
     "ename": "TypeError",
     "evalue": "'module' object is not callable",
     "output_type": "error",
     "traceback": [
      "\u001b[1;31m---------------------------------------------------------------------------\u001b[0m",
      "\u001b[1;31mTypeError\u001b[0m                                 Traceback (most recent call last)",
      "Cell \u001b[1;32mIn[8], line 1\u001b[0m\n\u001b[1;32m----> 1\u001b[0m \u001b[43mjsonify\u001b[49m\u001b[43m(\u001b[49m\u001b[43ma\u001b[49m\u001b[43m)\u001b[49m\n",
      "\u001b[1;31mTypeError\u001b[0m: 'module' object is not callable"
     ]
    }
   ],
   "source": [
    "jsonify(a)"
   ]
  },
  {
   "cell_type": "code",
   "execution_count": null,
   "id": "564f5fb8",
   "metadata": {},
   "outputs": [],
   "source": []
  }
 ],
 "metadata": {
  "kernelspec": {
   "display_name": "Python 3 (ipykernel)",
   "language": "python",
   "name": "python3"
  },
  "language_info": {
   "codemirror_mode": {
    "name": "ipython",
    "version": 3
   },
   "file_extension": ".py",
   "mimetype": "text/x-python",
   "name": "python",
   "nbconvert_exporter": "python",
   "pygments_lexer": "ipython3",
   "version": "3.9.15"
  }
 },
 "nbformat": 4,
 "nbformat_minor": 5
}
