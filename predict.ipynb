{
 "cells": [
  {
   "cell_type": "code",
   "execution_count": null,
   "id": "82ea4330",
   "metadata": {},
   "outputs": [],
   "source": [
    "import os\n",
    "import pickle\n",
    "import json\n",
    "import numpy as np\n",
    "from PIL import Image\n",
    "from keras.models import load_model\n",
    "from keras.applications.efficientnet import preprocess_input\n",
    "\n",
    "from flask import Flask\n",
    "from flask import request\n",
    "from flask import jsonify\n",
    "\n",
    "\n",
    "PIXELS = 300\n",
    "model = load_model('Models/best_efficientnetB7_lr0.001_10_0.974.h5')\n",
    "\n",
    "app = Flask('kitchenware')\n",
    "\n",
    "@app.route('/classifier', methods=['POST'])\n",
    "\n",
    "def predict():\n",
    "\n",
    "    inputImg = request.get_json()\n",
    "    \n",
    "    res = []\n",
    "    classes = {'cup': 0, 'fork': 1, 'glass': 2, 'knife': 3, 'plate': 4, 'spoon': 5}\n",
    "    labels = dict((v, k) for k, v in classes.items())\n",
    "\n",
    "\n",
    "    im = Image.open(f'./test/{inputImg}')\n",
    "    im = im.resize((300, 300))\n",
    "\n",
    "    x = np.array(im)\n",
    "    X = np.array([x])\n",
    "\n",
    "    model = load_model('Models/best_efficientnetB7_lr0.001_10_0.974.h5')\n",
    "\n",
    "    res = []\n",
    "    classes = {'cup': 0, 'fork': 1, 'glass': 2, 'knife': 3, 'plate': 4, 'spoon': 5}\n",
    "    labels = dict((v, k) for k, v in classes.items())\n",
    "\n",
    "    X = preprocess_input(X)\n",
    "    preds = np.round(model.predict(X),4) * 100\n",
    "    label = preds[0]\n",
    "    res.append(label)\n",
    "    results = dict(zip(classes.keys(),preds[0]))\n",
    "    print(results)\n",
    "    jsonify(res)\n",
    "\n",
    "if __name__ == \"__main__\":\n",
    "    app.run(debug=True, host='0.0.0.0', port=9696)\n",
    "\n"
   ]
  },
  {
   "cell_type": "code",
   "execution_count": null,
   "id": "a0294d7b",
   "metadata": {},
   "outputs": [],
   "source": [
    "a = predict(['0000.jpg'])\n",
    "a"
   ]
  },
  {
   "cell_type": "code",
   "execution_count": null,
   "id": "9e41f901",
   "metadata": {},
   "outputs": [],
   "source": [
    "a = predict(['0000.jpg', '1340.jpg', '1419.jpg', '4679.jpg', '7639.jpg', '8294.jpg'])\n",
    "a"
   ]
  },
  {
   "cell_type": "code",
   "execution_count": 1,
   "id": "b4447b20",
   "metadata": {},
   "outputs": [],
   "source": [
    "from keras.preprocessing.image import image"
   ]
  },
  {
   "cell_type": "code",
   "execution_count": null,
   "id": "a38f7611",
   "metadata": {},
   "outputs": [],
   "source": []
  }
 ],
 "metadata": {
  "kernelspec": {
   "display_name": "Python 3 (ipykernel)",
   "language": "python",
   "name": "python3"
  },
  "language_info": {
   "codemirror_mode": {
    "name": "ipython",
    "version": 3
   },
   "file_extension": ".py",
   "mimetype": "text/x-python",
   "name": "python",
   "nbconvert_exporter": "python",
   "pygments_lexer": "ipython3",
   "version": "3.9.15"
  },
  "vscode": {
   "interpreter": {
    "hash": "c5e5bf40f2a87e0af4b292120af8e155078c93cf89ab7d14ba60bd487db77ba2"
   }
  }
 },
 "nbformat": 4,
 "nbformat_minor": 5
}
